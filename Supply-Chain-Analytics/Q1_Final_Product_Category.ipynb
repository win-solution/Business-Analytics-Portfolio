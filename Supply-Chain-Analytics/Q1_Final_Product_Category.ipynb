{
 "cells": [
  {
   "cell_type": "markdown",
   "id": "fa88dd7c-c21c-4635-a83d-e0a8fe9eb0b9",
   "metadata": {},
   "source": [
    "## Decision variables:\n",
    "1. q[i, j, k] the quantities of product i (i=0, LCD42; i=1, LCD32) being shipped from \n",
    "ODM j (j=0, ODM1, ...,j=6, ODM7) via mode k (k=0, Regular Air; k=1, Air Express; k=2, Road; k=3, Road LTL; k=4, Road Network; k=5, Rail;\n",
    "k=6, Water).\n",
    "2. y[j] binary, whether ODM j is producing, =1 produce, =0 not produce\n",
    "3. z[i, j, k] binary, whether mode k from ODM j for product i is used to ship goods, =1 used, =0 not used.\n",
    "\n",
    "## Parameters:\n",
    "1. weight[i]: weights of LCD42 and LCD32\n",
    "2. distance[i, j]: distances between ODM j and DC\n",
    "3. mode_category[c]: a list of categories including air, road, rail, water\n",
    "4. f_shipping_cost[i, j, k]: shipping costs of product i being shipped from ODM j via mode k\n",
    "5. f_min_units_mode[i, j, k]: the minimum units to be shipped of product i via mode category c\n",
    "6. f_production_cost[i, j]: production cost for product i in ODM j\n",
    "7. f_emission[k]: emission(kg) released per km per ton for mode k\n",
    "8. total_demand[i]: demand for product i\n",
    "9. min_production: at least 200000 units to be produced at any ODM, for LCD42 and LCD32 combined\n",
    "10. max_production: at most 600000 units to be produced at any ODM except ODM 1 and 2, for LCD42 and LCD32 combined\n",
    "11. model.I, model.J, model.K, model.C: ranges of number of products, ODMs, modes, and categories\n",
    "12. valid_combinations: valid (i, j, k) in f_shipping_cost array"
   ]
  },
  {
   "cell_type": "markdown",
   "id": "d27258a0-9332-484f-9d60-02a25f160d81",
   "metadata": {},
   "source": [
    "## Objective funtion for Q1\n",
    "$$ Minimise: Obj = \\sum_{i=0}^{1}\\ \\sum_{j=0}^{6}\\ ProductionCost(i,j) \\times\\ \\sum_{k=0}^{6} q(i,j,k)\\ + \\sum_{i=0}^{1}\\ \\sum_{j=0}^{6}\\ \\sum_{k=0}^{6} q(i,j,k) \\times\\ ShippingCost(i,j,k) \\times\\ weight(i)\\ $$\n",
    "\n",
    "## Constraints for Q1:\n",
    "1. Shipping constraints:\n",
    "$ for \\quad i,j,k \\in ValidCombination: \\quad q(i,j,k) \\geq MinimumUnitsMode(i,j,k) \\times z(i,j,k) \\quad and \\quad q(i,j,k) \\leq MinimumUnitsMode(i,j,k) \\times z(i,j,k)$\n",
    "2. Enforce usage constraint: $ for \\quad i \\in I, c \\in C: \\quad \\sum_{j=0}^{6} \\sum_{k=0}^{krange} z(i,j,k) \\geq 1$\n",
    "3. Production constraints: $ for \\quad j \\in J: \\quad \\sum_{i=0}^{1} \\sum_{k=0}^{6} q(i, j, k) \\geq MinProduction \\times y(j) \\quad and \\quad \\sum_{i=0}^{1} \\sum_{k=0}^{6} q(i, j, k) \\leq MaxProduction \\times y(j)$\n",
    "4. Demand constraints: $ for \\quad i \\in I: \\quad \\sum_{j=0}^{6}\\ \\sum_{k=0}^{6} q(i, j, k) \\geq TotalDemand(i) $"
   ]
  },
  {
   "cell_type": "code",
   "execution_count": 126,
   "id": "8325e073-c1d8-42a3-8034-2ae4911496b1",
   "metadata": {},
   "outputs": [],
   "source": [
    "import numpy as np\n",
    "from pyomo.environ import *\n",
    "import pandas as pd"
   ]
  },
  {
   "cell_type": "code",
   "execution_count": 127,
   "id": "185dc830-4c5c-4246-9643-668ba89b72be",
   "metadata": {},
   "outputs": [],
   "source": [
    "# read file\n",
    "file_name='DHL_final.xlsx'\n",
    "# shipping cost\n",
    "shipping_cost = pd.read_excel(file_name, \"ShippingCost\", index_col=0) \n",
    "# minimum units to be shipped by category\n",
    "min_trans_unit_category = pd.read_excel(file_name, \"MiniNumberofShipping_Category\", index_col = 0)\n",
    "# minimum units to be shipped by mode\n",
    "min_trans_unit_mode = pd.read_excel(file_name, \"MiniNumberofShipping_Mode\", index_col = 0)\n",
    "# distance between ODMs and DC\n",
    "distance = pd.read_excel(file_name, \"Distance\", index_col = 0)\n",
    "# production cost\n",
    "production_cost = pd.read_excel(file_name, \"ProductionCost\", index_col = 0)\n",
    "# emission(kg) per tom per km\n",
    "emission_kg_per_ton_km = pd.read_excel(file_name, \"EmissionCost\", index_col = None)\n",
    "# mode categories. air has regular air and air express; road has road, road LTL, and Road Network; rail has only rail and so is water\n",
    "mode_category = [\"air\", \"road\", \"rail\", \"water\"]\n",
    "# total units to be shipped \n",
    "total_demand = [920000, 530000]\n",
    "# weights of LCD42 and LCD32\n",
    "weight = [0.022, 0.0165]\n",
    "# minimum and maximum production of LCD42 and LCD32 combined at any ODM\n",
    "min_production = 200000\n",
    "max_production = 600000"
   ]
  },
  {
   "cell_type": "code",
   "execution_count": 128,
   "id": "36dc3620-8bd0-41e6-ac17-de613d2e9773",
   "metadata": {},
   "outputs": [],
   "source": [
    "# save the names of products, ODMs, and modes\n",
    "product_name = ['LCD42', 'LCD32']\n",
    "ODM_name = ['1', '2', '3', '4', '5', '6', '7']\n",
    "mode_name = list(shipping_cost.columns)\n",
    "mode_category_name = list(min_trans_unit_category)\n",
    "\n",
    "# save the length of them\n",
    "product_num = len(product_name)\n",
    "ODM_num = len(ODM_name)\n",
    "mode_num = len(mode_name)\n",
    "mode_category_num = len(mode_category)"
   ]
  },
  {
   "cell_type": "code",
   "execution_count": 129,
   "id": "b4fc0444-b181-4fcb-8565-3b8b4f4c7c23",
   "metadata": {},
   "outputs": [],
   "source": [
    "# Here we are going make two 3-d array, shipping cost and minimum units to be shipped via mode.\n",
    "# Turn a dataframe into an array\n",
    "shipping_cost_np = shipping_cost.to_numpy()\n",
    "# take shipping costs out\n",
    "L42_shipping_cost = shipping_cost_np[:-2, :]\n",
    "L32_shipping_cost = shipping_cost_np[-2:, :]\n",
    "# build 3d array filled with nan, and then put our shipping cost data in it\n",
    "f_shipping_cost = np.full((2, ODM_num, mode_num), np.nan)\n",
    "# put shipping cost into this nan array. It is now a 3d shipping cost array.\n",
    "f_shipping_cost[0, :L42_shipping_cost.shape[0], :L42_shipping_cost.shape[1]] = L42_shipping_cost\n",
    "f_shipping_cost[1, :L32_shipping_cost.shape[0], :L32_shipping_cost.shape[1]] = L32_shipping_cost\n",
    "\n",
    "# Similarily, we make a 3d array of minimum units to be shipped by each mode\n",
    "min_trans_unit_mode_np = min_trans_unit_mode.to_numpy()\n",
    "f_min_units_mode = np.full((2, ODM_num, mode_num), np.nan)\n",
    "min_L42_unit = min_trans_unit_mode_np[0, :]\n",
    "min_L32_unit = min_trans_unit_mode_np[1, :]\n",
    "for i in range(ODM_num):\n",
    "    f_min_units_mode[0, i, :] = min_L42_unit\n",
    "for i in range(2):\n",
    "    f_min_units_mode[1, i, :] = min_L32_unit\n",
    "\n",
    "\n",
    "# Make final production, distance, and emission tables\n",
    "f_production_cost = production_cost.to_numpy()\n",
    "f_distance = distance.to_numpy()\n",
    "f_emission = emission_kg_per_ton_km.to_numpy()[0, :]"
   ]
  },
  {
   "cell_type": "code",
   "execution_count": 130,
   "id": "77ddb1a5-9572-445b-a436-b5b5e4b6c208",
   "metadata": {},
   "outputs": [],
   "source": [
    "# Start to build our model\n",
    "model = ConcreteModel()"
   ]
  },
  {
   "cell_type": "code",
   "execution_count": 131,
   "id": "857da1dc-863d-4699-b269-4909c6120044",
   "metadata": {},
   "outputs": [],
   "source": [
    "# units to be shipped for product i, ODM j, mode k\n",
    "model.q = Var(range(product_num), range(ODM_num), range(mode_num), domain = NonNegativeIntegers, initialize = 0)\n",
    "# Introduce a binary variable y. It can be used to formulate the production constraint\n",
    "model.y = Var(range(ODM_num), domain = Binary)\n",
    "# Introduce a binary variable z. It can be used to formulate the shipping constraint\n",
    "model.z = Var(range(product_num), range(ODM_num), range(mode_num), domain = Binary)"
   ]
  },
  {
   "cell_type": "code",
   "execution_count": 132,
   "id": "2a7f0c05-282f-4b88-99df-2c0cadb44a38",
   "metadata": {},
   "outputs": [],
   "source": [
    "# We have nan values in the f_shipping_cost, so we need to find valid combinations for i, j, k. \n",
    "# This will help us simplify following steps.\n",
    "valid_combinations = []\n",
    "for i in range(product_num):\n",
    "    for j in range(ODM_num):\n",
    "        for k in range(mode_num):\n",
    "            if not np.isnan(f_shipping_cost[i, j, k]):\n",
    "                valid_combinations.append((i, j, k))\n",
    "\n",
    "# Create sets for products, ODMs, modes, and valid combinations\n",
    "model.I = Set(initialize=range(product_num))\n",
    "model.J = Set(initialize=range(ODM_num))\n",
    "model.K = Set(initialize=range(mode_num))\n",
    "model.C = Set(initialize=range(mode_category_num))\n",
    "model.ValidCombinations = Set(within=model.I * model.J * model.K, initialize=valid_combinations)"
   ]
  },
  {
   "cell_type": "code",
   "execution_count": 133,
   "id": "f05e78ea-7d9c-4772-ac4a-a94ee32834dd",
   "metadata": {},
   "outputs": [],
   "source": [
    "# Define objective function. \n",
    "# We need to use if not condition to exclude all the nan values in production_costs because we can't use the valid combinations\n",
    "def obj(model):\n",
    "    # Calculate production costs for valid combinations\n",
    "    production_costs = sum(f_production_cost[i, j] * (sum(model.q[i, j, k] if not np.isnan(f_shipping_cost[i, j, k]) else 0\n",
    "                                                          for k in model.K)) \n",
    "                           if not np.isnan(f_production_cost[i, j]) else 0\n",
    "                           for i in model.I for j in model.J)\n",
    "    \n",
    "    # Calculate shipping costs for valid combinations\n",
    "    shipping_costs = sum(f_shipping_cost[i, j, k] * weight[i] * model.q[i, j, k]\n",
    "                         for i, j, k in valid_combinations)\n",
    "    \n",
    "    return production_costs + shipping_costs\n",
    "\n",
    "model.Obj = Objective(rule=obj, sense=minimize)"
   ]
  },
  {
   "cell_type": "code",
   "execution_count": 134,
   "id": "dc0fa0dc-d9e0-4419-823c-ab983f0d466e",
   "metadata": {},
   "outputs": [],
   "source": [
    "# Shipping constraint\n",
    "def min_shipping_cons(model, i, j, k):\n",
    "    return model.q[i, j, k] >= f_min_units_mode[i, j, k] * model.z[i, j, k]\n",
    "\n",
    "def max_shipping_cons(model, i, j, k):\n",
    "    bigM = 1000000  # Large number, effectively serving as an upper bound\n",
    "    return model.q[i, j, k] <= bigM * model.z[i, j, k]\n",
    "\n",
    "# Apply constraints over ValidCombinations to ensure they're only defined for non-NaN cost indices\n",
    "model.Min_ShippingCons = Constraint(model.ValidCombinations, rule=min_shipping_cons)\n",
    "model.Max_ShippingCons = Constraint(model.ValidCombinations, rule=max_shipping_cons)"
   ]
  },
  {
   "cell_type": "code",
   "execution_count": 135,
   "id": "99977c36-b5da-4e43-9549-bf01ab58574b",
   "metadata": {},
   "outputs": [],
   "source": [
    "# Create a function to determine the range of k for different categories.\n",
    "def determine_k_range(c):\n",
    "    # Determines the range of mode indices for a given transport category.\n",
    "    if c == 0:  # air\n",
    "        return range(2)  # modes 0 and 1 are air transport\n",
    "    elif c == 1:  # road\n",
    "        return range(2, 5)  # modes 2, 3, and 4 are road transport\n",
    "    elif c == 2:  # rail\n",
    "        return [5]  # mode 5 is rail transport\n",
    "    elif c == 3:  # water\n",
    "        return [6]  # mode 6 is water transport\n",
    "    else:\n",
    "        raise ValueError(\"Invalid category index\")"
   ]
  },
  {
   "cell_type": "code",
   "execution_count": 136,
   "id": "dd643598-3c25-4f38-ad00-83cfdce38ed7",
   "metadata": {},
   "outputs": [],
   "source": [
    "# We assume that to ensure enough resilience, we need to use every category for each product at least once\n",
    "# This constrain ensures our assumptions.\n",
    "def enforce_product_category_usage(model, i, c):\n",
    "    # This constraint ensures the binary variable for category usage is set to 1 if any mode within the category is used\n",
    "    return sum(model.z[i, j, k] if not np.isnan(f_shipping_cost[i, j, k]) else 0 \n",
    "               for j in model.J for k in determine_k_range(c)) >= 1 \n",
    "\n",
    "# Adding the constraints to the model\n",
    "model.EnforceCategoryUsage = Constraint(model.I, model.C, rule=enforce_product_category_usage)"
   ]
  },
  {
   "cell_type": "code",
   "execution_count": 137,
   "id": "9b28452a-b6f0-4f2b-a206-7ac01d7da3bc",
   "metadata": {},
   "outputs": [],
   "source": [
    "# Production constraint\n",
    "# We need to have a minimum order of 200,000 per ODM, for LCD42 and LCD32 combined.\n",
    "# Therefore, we will use j as index instead of (i, j, k), we cannot use validcombinations\n",
    "# We need to filter nan values in the f_shipping_cost.\n",
    "def min_production_cons(model, j):\n",
    "    return (sum(model.q[i, j, k] if not np.isnan(f_shipping_cost[i, j, k]) else 0 \n",
    "                for i in model.I for k in model.K)) >= min_production * model.y[j]\n",
    "def max_production_cons(model, i, j):\n",
    "    return (sum(model.q[i, j, k] \n",
    "                       if not np.isnan(f_shipping_cost[i, j, k]) else 0 for k in model.K)) <= max_production * model.y[j]\n",
    "model.Min_ProductionCons = Constraint(model.J, rule=min_production_cons)\n",
    "model.Max_ProductionCons = Constraint(model.I, model.J, rule=max_production_cons)"
   ]
  },
  {
   "cell_type": "code",
   "execution_count": 138,
   "id": "758def43-f6d3-457d-bbfd-6de361f543e6",
   "metadata": {},
   "outputs": [],
   "source": [
    "# Demand constraint\n",
    "def demand_cons(model, i):\n",
    "    return sum(model.q[i, j, k]\n",
    "               if not np.isnan(f_shipping_cost[i, j, k]) else 0\n",
    "               for j in model.J for k in model.K) >= total_demand[i]\n",
    "\n",
    "model.DemandCons = Constraint(model.I, rule=demand_cons)"
   ]
  },
  {
   "cell_type": "code",
   "execution_count": 139,
   "id": "a5758032-df4a-4a9c-933e-38f061a00332",
   "metadata": {},
   "outputs": [],
   "source": [
    "# solve this problem using glpk and save the results\n",
    "solver = SolverFactory('glpk')\n",
    "results = solver.solve(model,load_solutions=False,tee=False)"
   ]
  },
  {
   "cell_type": "code",
   "execution_count": 140,
   "id": "0943c4cc-b885-4337-a88f-3edd3a011a36",
   "metadata": {},
   "outputs": [],
   "source": [
    "# check the status is right\n",
    "if (results.solver.status == SolverStatus.ok) and (results.solver.termination_condition == TerminationCondition.optimal):\n",
    "    model.solutions.load_from(results)\n",
    "else:\n",
    "    print(\"Solve failed.\")"
   ]
  },
  {
   "cell_type": "code",
   "execution_count": 141,
   "id": "29a3812e-5a6c-4148-af21-3962da6ad2b0",
   "metadata": {},
   "outputs": [
    {
     "name": "stdout",
     "output_type": "stream",
     "text": [
      "total minimum cost: 2999985597.1\n",
      "The quantities to be shipped for product LCD42 ODM 1 via mode Regular Air 46000.0\n",
      "The quantities to be shipped for product LCD42 ODM 1 via mode Road Network 92000.0\n",
      "The quantities to be shipped for product LCD42 ODM 1 via mode Rail 138000.0\n",
      "The quantities to be shipped for product LCD42 ODM 1 via mode Water 44000.0\n",
      "The quantities to be shipped for product LCD42 ODM 4 via mode Water 600000.0\n",
      "The quantities to be shipped for product LCD32 ODM 1 via mode Regular Air 53000.0\n",
      "The quantities to be shipped for product LCD32 ODM 1 via mode Road Network 79500.0\n",
      "The quantities to be shipped for product LCD32 ODM 1 via mode Rail 79500.0\n",
      "The quantities to be shipped for product LCD32 ODM 1 via mode Water 318000.0\n"
     ]
    }
   ],
   "source": [
    "# print the results\n",
    "print(\"total minimum cost:\", model.Obj())\n",
    "for i in range(product_num):\n",
    "    for j in range(ODM_num):\n",
    "        for k in range(mode_num):\n",
    "            if value(model.q[i, j, k]) > 0:\n",
    "                print(\"The quantities to be shipped for product\", product_name[i], \"ODM\", ODM_name[j], \"via mode\", mode_name[k], \n",
    "                      value(model.q[i, j, k]))\n",
    "            else:\n",
    "                continue"
   ]
  },
  {
   "cell_type": "code",
   "execution_count": 121,
   "id": "630cfaa0-db22-4f09-8350-01f159e2bf24",
   "metadata": {},
   "outputs": [
    {
     "name": "stdout",
     "output_type": "stream",
     "text": [
      "The CO2 emission(kg) is: 7944511.033799999\n"
     ]
    }
   ],
   "source": [
    "emission = 0\n",
    "for i in range(product_num):\n",
    "    for j in range(ODM_num):\n",
    "        for k in range(mode_num):\n",
    "            if value(model.q[i, j, k]) > 0:\n",
    "                emission += f_emission[k] * value(model.q[i, j, k]) * weight[i] * f_distance[i,j]\n",
    "                \n",
    "            else:\n",
    "                continue\n",
    "print(\"The CO2 emission(kg) is:\", emission)"
   ]
  }
 ],
 "metadata": {
  "kernelspec": {
   "display_name": "Python 3 (ipykernel)",
   "language": "python",
   "name": "python3"
  },
  "language_info": {
   "codemirror_mode": {
    "name": "ipython",
    "version": 3
   },
   "file_extension": ".py",
   "mimetype": "text/x-python",
   "name": "python",
   "nbconvert_exporter": "python",
   "pygments_lexer": "ipython3",
   "version": "3.11.5"
  }
 },
 "nbformat": 4,
 "nbformat_minor": 5
}
